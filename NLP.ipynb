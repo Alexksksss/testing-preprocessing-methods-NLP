{
 "cells": [
  {
   "metadata": {},
   "cell_type": "markdown",
   "source": [
    "Toxic Russian Comments Dataset This dataset contains labelled comments from the popular Russian social network ok.ru.\n",
    "\n",
    "The data was used in a competition where participants had to automatically label each comment with at least one of the four predefined classes. The classes represent different levels of toxicity. The competition was held on the All Cups platform.\n",
    "\n",
    "Each comment belongs to one of the following classes, with each label complying with the fastText formatting rules:"
   ],
   "id": "4dfaa5faaffe7e91"
  },
  {
   "metadata": {},
   "cell_type": "markdown",
   "source": [
    "__label__NORMAL - neutral user comments\n",
    "\n",
    "__label__INSULT - comments that humiliate a person\n",
    "\n",
    "__label__THREAT - comments with an explicit intent to harm another person\n",
    "\n",
    "__label__OBSCENITY - comments that contain a description or a threat of a sexual assault\n",
    "\n",
    "Data overview:\n",
    "\n",
    "count_of_elements: 248290\n",
    "\n",
    "count_of_labels: 4\n",
    "\n",
    "label_count:\n",
    "\n",
    " __label__NORMAL: 203685\n",
    "\n",
    " __label__INSULT: 28567\n",
    "\n",
    " __label__INSULT,__label__THREAT: 6317\n",
    "\n",
    " __label__THREAT: 5460\n",
    "\n",
    " __label__OBSCENITY: 2245\n",
    "\n",
    " __label__INSULT,__label__OBSCENITY: 1766\n",
    "\n",
    " __label__INSULT,__label__OBSCENITY,__label__THREAT: 176\n",
    "\n",
    " __label__OBSCENITY,__label__THREAT: 74"
   ],
   "id": "f02b27ded0ba71bc"
  },
  {
   "metadata": {
    "ExecuteTime": {
     "end_time": "2024-12-03T19:34:23.664639Z",
     "start_time": "2024-12-03T19:34:21.687737Z"
    }
   },
   "cell_type": "code",
   "source": "import pandas as pd",
   "id": "7db0aee612db2b8a",
   "outputs": [],
   "execution_count": 4
  },
  {
   "metadata": {
    "ExecuteTime": {
     "end_time": "2024-12-03T19:35:31.311361Z",
     "start_time": "2024-12-03T19:35:28.138014Z"
    }
   },
   "cell_type": "code",
   "source": [
    "import kagglehub\n",
    "\n",
    "# Download latest version\n",
    "path = kagglehub.dataset_download(\"alexandersemiletov/toxic-russian-comments\")\n",
    "\n",
    "print(\"Path to dataset files:\", path)"
   ],
   "id": "29daf0eb164deac4",
   "outputs": [
    {
     "name": "stderr",
     "output_type": "stream",
     "text": [
      "D:\\СПбПУ\\1_семестр\\Методы_обработки_экспериментальных_данных\\.venv\\lib\\site-packages\\tqdm\\auto.py:21: TqdmWarning: IProgress not found. Please update jupyter and ipywidgets. See https://ipywidgets.readthedocs.io/en/stable/user_install.html\n",
      "  from .autonotebook import tqdm as notebook_tqdm\n"
     ]
    },
    {
     "name": "stdout",
     "output_type": "stream",
     "text": [
      "Downloading from https://www.kaggle.com/api/v1/datasets/download/alexandersemiletov/toxic-russian-comments?dataset_version_number=1...\n"
     ]
    },
    {
     "name": "stderr",
     "output_type": "stream",
     "text": [
      "100%|██████████| 12.0M/12.0M [00:00<00:00, 12.7MB/s]"
     ]
    },
    {
     "name": "stdout",
     "output_type": "stream",
     "text": [
      "Extracting files...\n"
     ]
    },
    {
     "name": "stderr",
     "output_type": "stream",
     "text": [
      "\n"
     ]
    },
    {
     "name": "stdout",
     "output_type": "stream",
     "text": [
      "Path to dataset files: C:\\Users\\Александра\\.cache\\kagglehub\\datasets\\alexandersemiletov\\toxic-russian-comments\\versions\\1\n"
     ]
    }
   ],
   "execution_count": 5
  },
  {
   "metadata": {
    "ExecuteTime": {
     "end_time": "2024-12-03T19:38:30.101448Z",
     "start_time": "2024-12-03T19:38:28.947901Z"
    }
   },
   "cell_type": "code",
   "source": [
    "data_list = []\n",
    "with open(\"C:/Users/Александра/.cache/kagglehub/datasets/alexandersemiletov/toxic-russian-comments/versions/1/dataset.txt\", encoding='utf-8') as file:\n",
    "    for line in file:\n",
    "        labels = line.split()[0]\n",
    "        text = line[len(labels)+1:].strip()\n",
    "        labels = labels.split(\",\")\n",
    "        mask = [1 if \"__label__NORMAL\" in labels else 0,\n",
    "                1 if \"__label__INSULT\" in labels else 0,\n",
    "                1 if \"__label__THREAT\" in labels else 0,\n",
    "                1 if \"__label__OBSCENITY\" in labels else 0]\n",
    "        data_list.append((text, *mask))"
   ],
   "id": "ef6c7361a7fe5f23",
   "outputs": [],
   "execution_count": 8
  },
  {
   "metadata": {
    "ExecuteTime": {
     "end_time": "2024-12-03T19:38:41.391264Z",
     "start_time": "2024-12-03T19:38:41.106233Z"
    }
   },
   "cell_type": "code",
   "source": "df = pd.DataFrame(data_list, columns=[\"text\", \"normal\", \"insult\", \"threat\", \"obscenity\"])",
   "id": "4505be62c814f746",
   "outputs": [],
   "execution_count": 9
  },
  {
   "metadata": {
    "ExecuteTime": {
     "end_time": "2024-12-03T19:38:47.247790Z",
     "start_time": "2024-12-03T19:38:47.215734Z"
    }
   },
   "cell_type": "code",
   "source": "df",
   "id": "8edb1fb88823208e",
   "outputs": [
    {
     "data": {
      "text/plain": [
       "                                                     text  normal  insult  \\\n",
       "0                                    скотина! что сказать       0       1   \n",
       "1       я сегодня проезжала по рабочей и между домами ...       1       0   \n",
       "2       очередной лохотрон. зачем придумывать очередно...       1       0   \n",
       "3       ретро дежавю ... сложно понять чужое сердце , ...       1       0   \n",
       "4                 а когда мы статус агрогородка получили?       1       0   \n",
       "...                                                   ...     ...     ...   \n",
       "248285                       правильно всё по пять (5)...       1       0   \n",
       "248286  ёбанные нубы заходите на сервер мой ник _creep...       0       1   \n",
       "248287  а у меня наверное рекорд в 1962 году в училище...       1       0   \n",
       "248288                              спасибо всем большое)       1       0   \n",
       "248289  нельзя ли увеличить хотя бы в два раза некотор...       1       0   \n",
       "\n",
       "        threat  obscenity  \n",
       "0            0          0  \n",
       "1            0          0  \n",
       "2            0          0  \n",
       "3            0          0  \n",
       "4            0          0  \n",
       "...        ...        ...  \n",
       "248285       0          0  \n",
       "248286       0          0  \n",
       "248287       0          0  \n",
       "248288       0          0  \n",
       "248289       0          0  \n",
       "\n",
       "[248290 rows x 5 columns]"
      ],
      "text/html": [
       "<div>\n",
       "<style scoped>\n",
       "    .dataframe tbody tr th:only-of-type {\n",
       "        vertical-align: middle;\n",
       "    }\n",
       "\n",
       "    .dataframe tbody tr th {\n",
       "        vertical-align: top;\n",
       "    }\n",
       "\n",
       "    .dataframe thead th {\n",
       "        text-align: right;\n",
       "    }\n",
       "</style>\n",
       "<table border=\"1\" class=\"dataframe\">\n",
       "  <thead>\n",
       "    <tr style=\"text-align: right;\">\n",
       "      <th></th>\n",
       "      <th>text</th>\n",
       "      <th>normal</th>\n",
       "      <th>insult</th>\n",
       "      <th>threat</th>\n",
       "      <th>obscenity</th>\n",
       "    </tr>\n",
       "  </thead>\n",
       "  <tbody>\n",
       "    <tr>\n",
       "      <th>0</th>\n",
       "      <td>скотина! что сказать</td>\n",
       "      <td>0</td>\n",
       "      <td>1</td>\n",
       "      <td>0</td>\n",
       "      <td>0</td>\n",
       "    </tr>\n",
       "    <tr>\n",
       "      <th>1</th>\n",
       "      <td>я сегодня проезжала по рабочей и между домами ...</td>\n",
       "      <td>1</td>\n",
       "      <td>0</td>\n",
       "      <td>0</td>\n",
       "      <td>0</td>\n",
       "    </tr>\n",
       "    <tr>\n",
       "      <th>2</th>\n",
       "      <td>очередной лохотрон. зачем придумывать очередно...</td>\n",
       "      <td>1</td>\n",
       "      <td>0</td>\n",
       "      <td>0</td>\n",
       "      <td>0</td>\n",
       "    </tr>\n",
       "    <tr>\n",
       "      <th>3</th>\n",
       "      <td>ретро дежавю ... сложно понять чужое сердце , ...</td>\n",
       "      <td>1</td>\n",
       "      <td>0</td>\n",
       "      <td>0</td>\n",
       "      <td>0</td>\n",
       "    </tr>\n",
       "    <tr>\n",
       "      <th>4</th>\n",
       "      <td>а когда мы статус агрогородка получили?</td>\n",
       "      <td>1</td>\n",
       "      <td>0</td>\n",
       "      <td>0</td>\n",
       "      <td>0</td>\n",
       "    </tr>\n",
       "    <tr>\n",
       "      <th>...</th>\n",
       "      <td>...</td>\n",
       "      <td>...</td>\n",
       "      <td>...</td>\n",
       "      <td>...</td>\n",
       "      <td>...</td>\n",
       "    </tr>\n",
       "    <tr>\n",
       "      <th>248285</th>\n",
       "      <td>правильно всё по пять (5)...</td>\n",
       "      <td>1</td>\n",
       "      <td>0</td>\n",
       "      <td>0</td>\n",
       "      <td>0</td>\n",
       "    </tr>\n",
       "    <tr>\n",
       "      <th>248286</th>\n",
       "      <td>ёбанные нубы заходите на сервер мой ник _creep...</td>\n",
       "      <td>0</td>\n",
       "      <td>1</td>\n",
       "      <td>0</td>\n",
       "      <td>0</td>\n",
       "    </tr>\n",
       "    <tr>\n",
       "      <th>248287</th>\n",
       "      <td>а у меня наверное рекорд в 1962 году в училище...</td>\n",
       "      <td>1</td>\n",
       "      <td>0</td>\n",
       "      <td>0</td>\n",
       "      <td>0</td>\n",
       "    </tr>\n",
       "    <tr>\n",
       "      <th>248288</th>\n",
       "      <td>спасибо всем большое)</td>\n",
       "      <td>1</td>\n",
       "      <td>0</td>\n",
       "      <td>0</td>\n",
       "      <td>0</td>\n",
       "    </tr>\n",
       "    <tr>\n",
       "      <th>248289</th>\n",
       "      <td>нельзя ли увеличить хотя бы в два раза некотор...</td>\n",
       "      <td>1</td>\n",
       "      <td>0</td>\n",
       "      <td>0</td>\n",
       "      <td>0</td>\n",
       "    </tr>\n",
       "  </tbody>\n",
       "</table>\n",
       "<p>248290 rows × 5 columns</p>\n",
       "</div>"
      ]
     },
     "execution_count": 10,
     "metadata": {},
     "output_type": "execute_result"
    }
   ],
   "execution_count": 10
  },
  {
   "metadata": {},
   "cell_type": "markdown",
   "source": "# ФУНКЦИИ ДЛЯ ОЧИСТКИ",
   "id": "944485e07ec14bc4"
  },
  {
   "metadata": {
    "ExecuteTime": {
     "end_time": "2024-12-03T19:39:34.398368Z",
     "start_time": "2024-12-03T19:39:33.794905Z"
    }
   },
   "cell_type": "code",
   "source": [
    "import pymorphy2\n",
    "import re\n",
    "\n",
    "morph = pymorphy2.MorphAnalyzer()\n",
    "\n",
    "def clean_text_pymorphy(text):\n",
    "    text = re.sub(r'[^а-яА-ЯёЁ\\s]', '', text)\n",
    "    text = text.lower()\n",
    "    tokens = [morph.parse(word)[0].normal_form for word in text.split()]\n",
    "    return ' '.join(tokens)\n",
    "\n",
    "text_example = \"Это пример текста для очистки с использованием pymorphy2!\"\n",
    "clean_text_pymorphy(text_example)\n"
   ],
   "id": "f0e75a56721e4d35",
   "outputs": [
    {
     "data": {
      "text/plain": [
       "'это пример текст для очистка с использование'"
      ]
     },
     "execution_count": 11,
     "metadata": {},
     "output_type": "execute_result"
    }
   ],
   "execution_count": 11
  },
  {
   "metadata": {
    "ExecuteTime": {
     "end_time": "2024-12-03T19:39:42.854888Z",
     "start_time": "2024-12-03T19:39:40.855110Z"
    }
   },
   "cell_type": "code",
   "source": [
    "\n",
    "import nltk\n",
    "from nltk.corpus import stopwords\n",
    "from nltk.tokenize import word_tokenize\n",
    "import re\n",
    "nltk.download('punkt_tab')\n",
    "nltk.download('stopwords')\n",
    "nltk.download('punkt')\n",
    "\n",
    "stop_words = set(stopwords.words(\"russian\"))\n",
    "\n",
    "def clean_text_nltk(text):\n",
    "    text = re.sub(r'[^а-яА-ЯёЁ\\s]', '', text.lower())\n",
    "    words = word_tokenize(text)\n",
    "    words = [word for word in words if word not in stop_words]\n",
    "    return ' '.join(words)\n",
    "\n",
    "# Пример очистки\n",
    "text_example = \"Это пример текста для очистки с использованием nltk\"\n",
    "clean_text_nltk(text_example)\n"
   ],
   "id": "a1ec77c050fc6422",
   "outputs": [
    {
     "name": "stderr",
     "output_type": "stream",
     "text": [
      "[nltk_data] Downloading package punkt_tab to\n",
      "[nltk_data]     C:\\Users\\Александра\\AppData\\Roaming\\nltk_data...\n",
      "[nltk_data]   Unzipping tokenizers\\punkt_tab.zip.\n",
      "[nltk_data] Downloading package stopwords to\n",
      "[nltk_data]     C:\\Users\\Александра\\AppData\\Roaming\\nltk_data...\n",
      "[nltk_data]   Package stopwords is already up-to-date!\n",
      "[nltk_data] Downloading package punkt to\n",
      "[nltk_data]     C:\\Users\\Александра\\AppData\\Roaming\\nltk_data...\n",
      "[nltk_data]   Package punkt is already up-to-date!\n"
     ]
    },
    {
     "data": {
      "text/plain": [
       "'это пример текста очистки использованием'"
      ]
     },
     "execution_count": 12,
     "metadata": {},
     "output_type": "execute_result"
    }
   ],
   "execution_count": 12
  },
  {
   "metadata": {
    "ExecuteTime": {
     "end_time": "2024-12-03T19:39:55.084460Z",
     "start_time": "2024-12-03T19:39:53.506015Z"
    }
   },
   "cell_type": "code",
   "source": [
    "from natasha import Doc, Segmenter, MorphVocab, NewsEmbedding, NewsMorphTagger\n",
    "import re\n",
    "\n",
    "segmenter = Segmenter()\n",
    "morph_vocab = MorphVocab()\n",
    "emb = NewsEmbedding()\n",
    "morph_tagger = NewsMorphTagger(emb)\n",
    "\n",
    "def clean_text_natasha(text):\n",
    "    text = re.sub(r'[^а-яА-ЯёЁ\\s]', '', text.lower())\n",
    "\n",
    "    doc = Doc(text)\n",
    "    doc.segment(segmenter)\n",
    "    doc.tag_morph(morph_tagger)\n",
    "\n",
    "    lemmas = []\n",
    "    for token in doc.tokens:\n",
    "        token.lemmatize(morph_vocab)\n",
    "        lemmas.append(token.lemma)\n",
    "    return ' '.join(lemmas)\n",
    "\n",
    "# Пример очистки\n",
    "text_example = \"Это пример текста для очистки с использованием Natasha!\"\n",
    "clean_text_natasha(text_example)"
   ],
   "id": "24fbdbdf44b59d5f",
   "outputs": [
    {
     "data": {
      "text/plain": [
       "'это пример текст для очистка с использование'"
      ]
     },
     "execution_count": 13,
     "metadata": {},
     "output_type": "execute_result"
    }
   ],
   "execution_count": 13
  },
  {
   "metadata": {
    "ExecuteTime": {
     "end_time": "2024-12-03T19:40:15.865030Z",
     "start_time": "2024-12-03T19:40:10.922689Z"
    }
   },
   "cell_type": "code",
   "source": [
    "import spacy\n",
    "import re\n",
    "\n",
    "nlp = spacy.load(\"ru_core_news_sm\")\n",
    "\n",
    "def clean_text_spacy(text):\n",
    "    text = re.sub(r'[^а-яА-ЯёЁ\\s]', '', text.lower())\n",
    "    doc = nlp(text)\n",
    "    lemmas = [token.lemma_ for token in doc if not token.is_stop]\n",
    "    return ' '.join(lemmas)\n",
    "text_example = \"Это пример текста для очистки с использованием spacy!\"\n",
    "clean_text_spacy(text_example)"
   ],
   "id": "46270199ddb24982",
   "outputs": [
    {
     "data": {
      "text/plain": [
       "'пример текст очистка использование'"
      ]
     },
     "execution_count": 14,
     "metadata": {},
     "output_type": "execute_result"
    }
   ],
   "execution_count": 14
  },
  {
   "metadata": {
    "ExecuteTime": {
     "end_time": "2024-12-03T20:38:42.293759Z",
     "start_time": "2024-12-03T20:38:42.278108Z"
    }
   },
   "cell_type": "code",
   "source": [
    "import re\n",
    "\n",
    "def clean_text_re(text):\n",
    "    text = re.sub(r'[^а-яА-ЯёЁ\\s]', '', text.lower())\n",
    "    return text\n",
    "text_example = \"Это пример текста для очистки с использованием re!\"\n",
    "clean_text_re(text_example)"
   ],
   "id": "54bb984129c6b891",
   "outputs": [
    {
     "data": {
      "text/plain": [
       "'это пример текста для очистки с использованием '"
      ]
     },
     "execution_count": 22,
     "metadata": {},
     "output_type": "execute_result"
    }
   ],
   "execution_count": 22
  },
  {
   "metadata": {},
   "cell_type": "markdown",
   "source": "# РЕДАКТИРОВАНИЕ ИСХОДНЫХ ДАТАФРЕЙМОВ",
   "id": "4e969da4aa106b42"
  },
  {
   "metadata": {
    "ExecuteTime": {
     "end_time": "2024-12-03T19:40:38.775932Z",
     "start_time": "2024-12-03T19:40:38.553193Z"
    }
   },
   "cell_type": "code",
   "source": [
    "df_no_change = df.copy()\n",
    "df_pymorphy = df.copy()\n",
    "df_nltk = df.copy()\n",
    "df_natasha=df.copy()\n",
    "df_spacy=df.copy()\n",
    "df_re=df.copy()"
   ],
   "id": "c0ea4ca976846eca",
   "outputs": [],
   "execution_count": 15
  },
  {
   "metadata": {
    "ExecuteTime": {
     "end_time": "2024-12-03T19:41:03.545999Z",
     "start_time": "2024-12-03T19:41:03.530377Z"
    }
   },
   "cell_type": "code",
   "source": "import time",
   "id": "ff131bda6d0d9a0f",
   "outputs": [],
   "execution_count": 16
  },
  {
   "metadata": {
    "ExecuteTime": {
     "end_time": "2024-12-03T19:50:07.649996Z",
     "start_time": "2024-12-03T19:41:16.170161Z"
    }
   },
   "cell_type": "code",
   "source": [
    "start_time = time.time()\n",
    "df_pymorphy['cleaned_text'] = df_pymorphy['text'].apply(clean_text_pymorphy)\n",
    "end = time.time()\n",
    "print(end-start_time)"
   ],
   "id": "b4be274e5359f1c",
   "outputs": [
    {
     "name": "stdout",
     "output_type": "stream",
     "text": [
      "531.4316663742065\n"
     ]
    }
   ],
   "execution_count": 17
  },
  {
   "metadata": {
    "ExecuteTime": {
     "end_time": "2024-12-03T19:50:36.955152Z",
     "start_time": "2024-12-03T19:50:17.019357Z"
    }
   },
   "cell_type": "code",
   "source": [
    "start_time = time.time()\n",
    "df_nltk['cleaned_text'] = df_nltk['text'].apply(clean_text_nltk)\n",
    "end = time.time()\n",
    "print(end-start_time)"
   ],
   "id": "488ed3831ad761a6",
   "outputs": [
    {
     "name": "stdout",
     "output_type": "stream",
     "text": [
      "19.920001983642578\n"
     ]
    }
   ],
   "execution_count": 18
  },
  {
   "metadata": {
    "ExecuteTime": {
     "end_time": "2024-12-03T20:01:07.930737Z",
     "start_time": "2024-12-03T19:51:02.797672Z"
    }
   },
   "cell_type": "code",
   "source": [
    "start_time = time.time()\n",
    "df_natasha['cleaned_text'] = df_natasha['text'].apply(clean_text_natasha)\n",
    "end = time.time()\n",
    "print(end-start_time)"
   ],
   "id": "a416b0bedccbf2b4",
   "outputs": [
    {
     "name": "stdout",
     "output_type": "stream",
     "text": [
      "605.1016881465912\n"
     ]
    }
   ],
   "execution_count": 19
  },
  {
   "metadata": {
    "ExecuteTime": {
     "end_time": "2024-12-03T20:36:42.019962Z",
     "start_time": "2024-12-03T20:01:08.103689Z"
    }
   },
   "cell_type": "code",
   "source": [
    "start_time = time.time()\n",
    "df_spacy['cleaned_text'] = df_spacy['text'].apply(clean_text_spacy)\n",
    "end = time.time()\n",
    "print(end-start_time)"
   ],
   "id": "b05de16ee4c50b7f",
   "outputs": [
    {
     "name": "stdout",
     "output_type": "stream",
     "text": [
      "2133.9006662368774\n"
     ]
    }
   ],
   "execution_count": 20
  },
  {
   "metadata": {
    "ExecuteTime": {
     "end_time": "2024-12-03T20:38:46.233423Z",
     "start_time": "2024-12-03T20:38:45.170106Z"
    }
   },
   "cell_type": "code",
   "source": [
    "start_time = time.time()\n",
    "df_re['cleaned_text'] = df_re['text'].apply(clean_text_re)\n",
    "end = time.time()\n",
    "print(end-start_time)"
   ],
   "id": "f6a7c9149216710d",
   "outputs": [
    {
     "name": "stdout",
     "output_type": "stream",
     "text": [
      "1.0473580360412598\n"
     ]
    }
   ],
   "execution_count": 23
  },
  {
   "metadata": {
    "ExecuteTime": {
     "end_time": "2024-12-03T20:39:43.938157Z",
     "start_time": "2024-12-03T20:39:43.900090Z"
    }
   },
   "cell_type": "code",
   "source": "df_no_change",
   "id": "84fba650c633e4ee",
   "outputs": [
    {
     "data": {
      "text/plain": [
       "                                                     text  normal  insult  \\\n",
       "0                                    скотина! что сказать       0       1   \n",
       "1       я сегодня проезжала по рабочей и между домами ...       1       0   \n",
       "2       очередной лохотрон. зачем придумывать очередно...       1       0   \n",
       "3       ретро дежавю ... сложно понять чужое сердце , ...       1       0   \n",
       "4                 а когда мы статус агрогородка получили?       1       0   \n",
       "...                                                   ...     ...     ...   \n",
       "248285                       правильно всё по пять (5)...       1       0   \n",
       "248286  ёбанные нубы заходите на сервер мой ник _creep...       0       1   \n",
       "248287  а у меня наверное рекорд в 1962 году в училище...       1       0   \n",
       "248288                              спасибо всем большое)       1       0   \n",
       "248289  нельзя ли увеличить хотя бы в два раза некотор...       1       0   \n",
       "\n",
       "        threat  obscenity  \n",
       "0            0          0  \n",
       "1            0          0  \n",
       "2            0          0  \n",
       "3            0          0  \n",
       "4            0          0  \n",
       "...        ...        ...  \n",
       "248285       0          0  \n",
       "248286       0          0  \n",
       "248287       0          0  \n",
       "248288       0          0  \n",
       "248289       0          0  \n",
       "\n",
       "[248290 rows x 5 columns]"
      ],
      "text/html": [
       "<div>\n",
       "<style scoped>\n",
       "    .dataframe tbody tr th:only-of-type {\n",
       "        vertical-align: middle;\n",
       "    }\n",
       "\n",
       "    .dataframe tbody tr th {\n",
       "        vertical-align: top;\n",
       "    }\n",
       "\n",
       "    .dataframe thead th {\n",
       "        text-align: right;\n",
       "    }\n",
       "</style>\n",
       "<table border=\"1\" class=\"dataframe\">\n",
       "  <thead>\n",
       "    <tr style=\"text-align: right;\">\n",
       "      <th></th>\n",
       "      <th>text</th>\n",
       "      <th>normal</th>\n",
       "      <th>insult</th>\n",
       "      <th>threat</th>\n",
       "      <th>obscenity</th>\n",
       "    </tr>\n",
       "  </thead>\n",
       "  <tbody>\n",
       "    <tr>\n",
       "      <th>0</th>\n",
       "      <td>скотина! что сказать</td>\n",
       "      <td>0</td>\n",
       "      <td>1</td>\n",
       "      <td>0</td>\n",
       "      <td>0</td>\n",
       "    </tr>\n",
       "    <tr>\n",
       "      <th>1</th>\n",
       "      <td>я сегодня проезжала по рабочей и между домами ...</td>\n",
       "      <td>1</td>\n",
       "      <td>0</td>\n",
       "      <td>0</td>\n",
       "      <td>0</td>\n",
       "    </tr>\n",
       "    <tr>\n",
       "      <th>2</th>\n",
       "      <td>очередной лохотрон. зачем придумывать очередно...</td>\n",
       "      <td>1</td>\n",
       "      <td>0</td>\n",
       "      <td>0</td>\n",
       "      <td>0</td>\n",
       "    </tr>\n",
       "    <tr>\n",
       "      <th>3</th>\n",
       "      <td>ретро дежавю ... сложно понять чужое сердце , ...</td>\n",
       "      <td>1</td>\n",
       "      <td>0</td>\n",
       "      <td>0</td>\n",
       "      <td>0</td>\n",
       "    </tr>\n",
       "    <tr>\n",
       "      <th>4</th>\n",
       "      <td>а когда мы статус агрогородка получили?</td>\n",
       "      <td>1</td>\n",
       "      <td>0</td>\n",
       "      <td>0</td>\n",
       "      <td>0</td>\n",
       "    </tr>\n",
       "    <tr>\n",
       "      <th>...</th>\n",
       "      <td>...</td>\n",
       "      <td>...</td>\n",
       "      <td>...</td>\n",
       "      <td>...</td>\n",
       "      <td>...</td>\n",
       "    </tr>\n",
       "    <tr>\n",
       "      <th>248285</th>\n",
       "      <td>правильно всё по пять (5)...</td>\n",
       "      <td>1</td>\n",
       "      <td>0</td>\n",
       "      <td>0</td>\n",
       "      <td>0</td>\n",
       "    </tr>\n",
       "    <tr>\n",
       "      <th>248286</th>\n",
       "      <td>ёбанные нубы заходите на сервер мой ник _creep...</td>\n",
       "      <td>0</td>\n",
       "      <td>1</td>\n",
       "      <td>0</td>\n",
       "      <td>0</td>\n",
       "    </tr>\n",
       "    <tr>\n",
       "      <th>248287</th>\n",
       "      <td>а у меня наверное рекорд в 1962 году в училище...</td>\n",
       "      <td>1</td>\n",
       "      <td>0</td>\n",
       "      <td>0</td>\n",
       "      <td>0</td>\n",
       "    </tr>\n",
       "    <tr>\n",
       "      <th>248288</th>\n",
       "      <td>спасибо всем большое)</td>\n",
       "      <td>1</td>\n",
       "      <td>0</td>\n",
       "      <td>0</td>\n",
       "      <td>0</td>\n",
       "    </tr>\n",
       "    <tr>\n",
       "      <th>248289</th>\n",
       "      <td>нельзя ли увеличить хотя бы в два раза некотор...</td>\n",
       "      <td>1</td>\n",
       "      <td>0</td>\n",
       "      <td>0</td>\n",
       "      <td>0</td>\n",
       "    </tr>\n",
       "  </tbody>\n",
       "</table>\n",
       "<p>248290 rows × 5 columns</p>\n",
       "</div>"
      ]
     },
     "execution_count": 24,
     "metadata": {},
     "output_type": "execute_result"
    }
   ],
   "execution_count": 24
  },
  {
   "metadata": {
    "ExecuteTime": {
     "end_time": "2024-12-03T20:40:43.798676Z",
     "start_time": "2024-12-03T20:40:43.784720Z"
    }
   },
   "cell_type": "code",
   "source": "df_re",
   "id": "e26b096d8c3e4744",
   "outputs": [
    {
     "data": {
      "text/plain": [
       "                                                     text  normal  insult  \\\n",
       "0                                    скотина! что сказать       0       1   \n",
       "1       я сегодня проезжала по рабочей и между домами ...       1       0   \n",
       "2       очередной лохотрон. зачем придумывать очередно...       1       0   \n",
       "3       ретро дежавю ... сложно понять чужое сердце , ...       1       0   \n",
       "4                 а когда мы статус агрогородка получили?       1       0   \n",
       "...                                                   ...     ...     ...   \n",
       "248285                       правильно всё по пять (5)...       1       0   \n",
       "248286  ёбанные нубы заходите на сервер мой ник _creep...       0       1   \n",
       "248287  а у меня наверное рекорд в 1962 году в училище...       1       0   \n",
       "248288                              спасибо всем большое)       1       0   \n",
       "248289  нельзя ли увеличить хотя бы в два раза некотор...       1       0   \n",
       "\n",
       "        threat  obscenity                                       cleaned_text  \n",
       "0            0          0                                скотина что сказать  \n",
       "1            0          0  я сегодня проезжала по рабочей и между домами ...  \n",
       "2            0          0  очередной лохотрон зачем придумывать очередной...  \n",
       "3            0          0  ретро дежавю  сложно понять чужое сердце  лиш ...  \n",
       "4            0          0             а когда мы статус агрогородка получили  \n",
       "...        ...        ...                                                ...  \n",
       "248285       0          0                             правильно всё по пять   \n",
       "248286       0          0  ёбанные нубы заходите на сервер мой ник  для п...  \n",
       "248287       0          0  а у меня наверное рекорд в  году в училище кор...  \n",
       "248288       0          0                               спасибо всем большое  \n",
       "248289       0          0  нельзя ли увеличить хотя бы в два раза некотор...  \n",
       "\n",
       "[248290 rows x 6 columns]"
      ],
      "text/html": [
       "<div>\n",
       "<style scoped>\n",
       "    .dataframe tbody tr th:only-of-type {\n",
       "        vertical-align: middle;\n",
       "    }\n",
       "\n",
       "    .dataframe tbody tr th {\n",
       "        vertical-align: top;\n",
       "    }\n",
       "\n",
       "    .dataframe thead th {\n",
       "        text-align: right;\n",
       "    }\n",
       "</style>\n",
       "<table border=\"1\" class=\"dataframe\">\n",
       "  <thead>\n",
       "    <tr style=\"text-align: right;\">\n",
       "      <th></th>\n",
       "      <th>text</th>\n",
       "      <th>normal</th>\n",
       "      <th>insult</th>\n",
       "      <th>threat</th>\n",
       "      <th>obscenity</th>\n",
       "      <th>cleaned_text</th>\n",
       "    </tr>\n",
       "  </thead>\n",
       "  <tbody>\n",
       "    <tr>\n",
       "      <th>0</th>\n",
       "      <td>скотина! что сказать</td>\n",
       "      <td>0</td>\n",
       "      <td>1</td>\n",
       "      <td>0</td>\n",
       "      <td>0</td>\n",
       "      <td>скотина что сказать</td>\n",
       "    </tr>\n",
       "    <tr>\n",
       "      <th>1</th>\n",
       "      <td>я сегодня проезжала по рабочей и между домами ...</td>\n",
       "      <td>1</td>\n",
       "      <td>0</td>\n",
       "      <td>0</td>\n",
       "      <td>0</td>\n",
       "      <td>я сегодня проезжала по рабочей и между домами ...</td>\n",
       "    </tr>\n",
       "    <tr>\n",
       "      <th>2</th>\n",
       "      <td>очередной лохотрон. зачем придумывать очередно...</td>\n",
       "      <td>1</td>\n",
       "      <td>0</td>\n",
       "      <td>0</td>\n",
       "      <td>0</td>\n",
       "      <td>очередной лохотрон зачем придумывать очередной...</td>\n",
       "    </tr>\n",
       "    <tr>\n",
       "      <th>3</th>\n",
       "      <td>ретро дежавю ... сложно понять чужое сердце , ...</td>\n",
       "      <td>1</td>\n",
       "      <td>0</td>\n",
       "      <td>0</td>\n",
       "      <td>0</td>\n",
       "      <td>ретро дежавю  сложно понять чужое сердце  лиш ...</td>\n",
       "    </tr>\n",
       "    <tr>\n",
       "      <th>4</th>\n",
       "      <td>а когда мы статус агрогородка получили?</td>\n",
       "      <td>1</td>\n",
       "      <td>0</td>\n",
       "      <td>0</td>\n",
       "      <td>0</td>\n",
       "      <td>а когда мы статус агрогородка получили</td>\n",
       "    </tr>\n",
       "    <tr>\n",
       "      <th>...</th>\n",
       "      <td>...</td>\n",
       "      <td>...</td>\n",
       "      <td>...</td>\n",
       "      <td>...</td>\n",
       "      <td>...</td>\n",
       "      <td>...</td>\n",
       "    </tr>\n",
       "    <tr>\n",
       "      <th>248285</th>\n",
       "      <td>правильно всё по пять (5)...</td>\n",
       "      <td>1</td>\n",
       "      <td>0</td>\n",
       "      <td>0</td>\n",
       "      <td>0</td>\n",
       "      <td>правильно всё по пять</td>\n",
       "    </tr>\n",
       "    <tr>\n",
       "      <th>248286</th>\n",
       "      <td>ёбанные нубы заходите на сервер мой ник _creep...</td>\n",
       "      <td>0</td>\n",
       "      <td>1</td>\n",
       "      <td>0</td>\n",
       "      <td>0</td>\n",
       "      <td>ёбанные нубы заходите на сервер мой ник  для п...</td>\n",
       "    </tr>\n",
       "    <tr>\n",
       "      <th>248287</th>\n",
       "      <td>а у меня наверное рекорд в 1962 году в училище...</td>\n",
       "      <td>1</td>\n",
       "      <td>0</td>\n",
       "      <td>0</td>\n",
       "      <td>0</td>\n",
       "      <td>а у меня наверное рекорд в  году в училище кор...</td>\n",
       "    </tr>\n",
       "    <tr>\n",
       "      <th>248288</th>\n",
       "      <td>спасибо всем большое)</td>\n",
       "      <td>1</td>\n",
       "      <td>0</td>\n",
       "      <td>0</td>\n",
       "      <td>0</td>\n",
       "      <td>спасибо всем большое</td>\n",
       "    </tr>\n",
       "    <tr>\n",
       "      <th>248289</th>\n",
       "      <td>нельзя ли увеличить хотя бы в два раза некотор...</td>\n",
       "      <td>1</td>\n",
       "      <td>0</td>\n",
       "      <td>0</td>\n",
       "      <td>0</td>\n",
       "      <td>нельзя ли увеличить хотя бы в два раза некотор...</td>\n",
       "    </tr>\n",
       "  </tbody>\n",
       "</table>\n",
       "<p>248290 rows × 6 columns</p>\n",
       "</div>"
      ]
     },
     "execution_count": 25,
     "metadata": {},
     "output_type": "execute_result"
    }
   ],
   "execution_count": 25
  },
  {
   "metadata": {
    "ExecuteTime": {
     "end_time": "2024-12-03T20:41:34.781359Z",
     "start_time": "2024-12-03T20:41:34.746884Z"
    }
   },
   "cell_type": "code",
   "source": "df_pymorphy",
   "id": "a3d6b50779c5ab2d",
   "outputs": [
    {
     "data": {
      "text/plain": [
       "                                                     text  normal  insult  \\\n",
       "0                                    скотина! что сказать       0       1   \n",
       "1       я сегодня проезжала по рабочей и между домами ...       1       0   \n",
       "2       очередной лохотрон. зачем придумывать очередно...       1       0   \n",
       "3       ретро дежавю ... сложно понять чужое сердце , ...       1       0   \n",
       "4                 а когда мы статус агрогородка получили?       1       0   \n",
       "...                                                   ...     ...     ...   \n",
       "248285                       правильно всё по пять (5)...       1       0   \n",
       "248286  ёбанные нубы заходите на сервер мой ник _creep...       0       1   \n",
       "248287  а у меня наверное рекорд в 1962 году в училище...       1       0   \n",
       "248288                              спасибо всем большое)       1       0   \n",
       "248289  нельзя ли увеличить хотя бы в два раза некотор...       1       0   \n",
       "\n",
       "        threat  obscenity                                       cleaned_text  \n",
       "0            0          0                                скотина что сказать  \n",
       "1            0          0  я сегодня проезжать по рабочий и между дом сни...  \n",
       "2            0          0  очередной лохотрон зачем придумывать очередной...  \n",
       "3            0          0  ретро дежавю сложно понять чужое сердце лиш ощ...  \n",
       "4            0          0             а когда мы статус агрогородок получить  \n",
       "...        ...        ...                                                ...  \n",
       "248285       0          0                              правильно всё по пять  \n",
       "248286       0          0  ёбанный нуба заходить на сервер мой ник для пв...  \n",
       "248287       0          0  а у я наверное рекорд в год в училище коренной...  \n",
       "248288       0          0                               спасибо весь большой  \n",
       "248289       0          0  нельзя ли увеличить хотя бы в два раз некоторы...  \n",
       "\n",
       "[248290 rows x 6 columns]"
      ],
      "text/html": [
       "<div>\n",
       "<style scoped>\n",
       "    .dataframe tbody tr th:only-of-type {\n",
       "        vertical-align: middle;\n",
       "    }\n",
       "\n",
       "    .dataframe tbody tr th {\n",
       "        vertical-align: top;\n",
       "    }\n",
       "\n",
       "    .dataframe thead th {\n",
       "        text-align: right;\n",
       "    }\n",
       "</style>\n",
       "<table border=\"1\" class=\"dataframe\">\n",
       "  <thead>\n",
       "    <tr style=\"text-align: right;\">\n",
       "      <th></th>\n",
       "      <th>text</th>\n",
       "      <th>normal</th>\n",
       "      <th>insult</th>\n",
       "      <th>threat</th>\n",
       "      <th>obscenity</th>\n",
       "      <th>cleaned_text</th>\n",
       "    </tr>\n",
       "  </thead>\n",
       "  <tbody>\n",
       "    <tr>\n",
       "      <th>0</th>\n",
       "      <td>скотина! что сказать</td>\n",
       "      <td>0</td>\n",
       "      <td>1</td>\n",
       "      <td>0</td>\n",
       "      <td>0</td>\n",
       "      <td>скотина что сказать</td>\n",
       "    </tr>\n",
       "    <tr>\n",
       "      <th>1</th>\n",
       "      <td>я сегодня проезжала по рабочей и между домами ...</td>\n",
       "      <td>1</td>\n",
       "      <td>0</td>\n",
       "      <td>0</td>\n",
       "      <td>0</td>\n",
       "      <td>я сегодня проезжать по рабочий и между дом сни...</td>\n",
       "    </tr>\n",
       "    <tr>\n",
       "      <th>2</th>\n",
       "      <td>очередной лохотрон. зачем придумывать очередно...</td>\n",
       "      <td>1</td>\n",
       "      <td>0</td>\n",
       "      <td>0</td>\n",
       "      <td>0</td>\n",
       "      <td>очередной лохотрон зачем придумывать очередной...</td>\n",
       "    </tr>\n",
       "    <tr>\n",
       "      <th>3</th>\n",
       "      <td>ретро дежавю ... сложно понять чужое сердце , ...</td>\n",
       "      <td>1</td>\n",
       "      <td>0</td>\n",
       "      <td>0</td>\n",
       "      <td>0</td>\n",
       "      <td>ретро дежавю сложно понять чужое сердце лиш ощ...</td>\n",
       "    </tr>\n",
       "    <tr>\n",
       "      <th>4</th>\n",
       "      <td>а когда мы статус агрогородка получили?</td>\n",
       "      <td>1</td>\n",
       "      <td>0</td>\n",
       "      <td>0</td>\n",
       "      <td>0</td>\n",
       "      <td>а когда мы статус агрогородок получить</td>\n",
       "    </tr>\n",
       "    <tr>\n",
       "      <th>...</th>\n",
       "      <td>...</td>\n",
       "      <td>...</td>\n",
       "      <td>...</td>\n",
       "      <td>...</td>\n",
       "      <td>...</td>\n",
       "      <td>...</td>\n",
       "    </tr>\n",
       "    <tr>\n",
       "      <th>248285</th>\n",
       "      <td>правильно всё по пять (5)...</td>\n",
       "      <td>1</td>\n",
       "      <td>0</td>\n",
       "      <td>0</td>\n",
       "      <td>0</td>\n",
       "      <td>правильно всё по пять</td>\n",
       "    </tr>\n",
       "    <tr>\n",
       "      <th>248286</th>\n",
       "      <td>ёбанные нубы заходите на сервер мой ник _creep...</td>\n",
       "      <td>0</td>\n",
       "      <td>1</td>\n",
       "      <td>0</td>\n",
       "      <td>0</td>\n",
       "      <td>ёбанный нуба заходить на сервер мой ник для пв...</td>\n",
       "    </tr>\n",
       "    <tr>\n",
       "      <th>248287</th>\n",
       "      <td>а у меня наверное рекорд в 1962 году в училище...</td>\n",
       "      <td>1</td>\n",
       "      <td>0</td>\n",
       "      <td>0</td>\n",
       "      <td>0</td>\n",
       "      <td>а у я наверное рекорд в год в училище коренной...</td>\n",
       "    </tr>\n",
       "    <tr>\n",
       "      <th>248288</th>\n",
       "      <td>спасибо всем большое)</td>\n",
       "      <td>1</td>\n",
       "      <td>0</td>\n",
       "      <td>0</td>\n",
       "      <td>0</td>\n",
       "      <td>спасибо весь большой</td>\n",
       "    </tr>\n",
       "    <tr>\n",
       "      <th>248289</th>\n",
       "      <td>нельзя ли увеличить хотя бы в два раза некотор...</td>\n",
       "      <td>1</td>\n",
       "      <td>0</td>\n",
       "      <td>0</td>\n",
       "      <td>0</td>\n",
       "      <td>нельзя ли увеличить хотя бы в два раз некоторы...</td>\n",
       "    </tr>\n",
       "  </tbody>\n",
       "</table>\n",
       "<p>248290 rows × 6 columns</p>\n",
       "</div>"
      ]
     },
     "execution_count": 26,
     "metadata": {},
     "output_type": "execute_result"
    }
   ],
   "execution_count": 26
  },
  {
   "metadata": {
    "ExecuteTime": {
     "end_time": "2024-12-03T20:42:02.615601Z",
     "start_time": "2024-12-03T20:42:02.578333Z"
    }
   },
   "cell_type": "code",
   "source": "df_natasha",
   "id": "82a3d66464dde468",
   "outputs": [
    {
     "data": {
      "text/plain": [
       "                                                     text  normal  insult  \\\n",
       "0                                    скотина! что сказать       0       1   \n",
       "1       я сегодня проезжала по рабочей и между домами ...       1       0   \n",
       "2       очередной лохотрон. зачем придумывать очередно...       1       0   \n",
       "3       ретро дежавю ... сложно понять чужое сердце , ...       1       0   \n",
       "4                 а когда мы статус агрогородка получили?       1       0   \n",
       "...                                                   ...     ...     ...   \n",
       "248285                       правильно всё по пять (5)...       1       0   \n",
       "248286  ёбанные нубы заходите на сервер мой ник _creep...       0       1   \n",
       "248287  а у меня наверное рекорд в 1962 году в училище...       1       0   \n",
       "248288                              спасибо всем большое)       1       0   \n",
       "248289  нельзя ли увеличить хотя бы в два раза некотор...       1       0   \n",
       "\n",
       "        threat  obscenity                                       cleaned_text  \n",
       "0            0          0                                скотина что сказать  \n",
       "1            0          0  я сегодня проезжать по рабочий и между дом сни...  \n",
       "2            0          0  очередной лохотрон зачем придумывать очередной...  \n",
       "3            0          0  ретро дежавю сложный понять чужой сердце лиш о...  \n",
       "4            0          0             а когда мы статус агрогородок получить  \n",
       "...        ...        ...                                                ...  \n",
       "248285       0          0                             правильно весь по пять  \n",
       "248286       0          0  ебанный нуба заходить на сервер мой ник для пв...  \n",
       "248287       0          0  а у я наверное рекорд в год в училище коренной...  \n",
       "248288       0          0                               спасибо весь большой  \n",
       "248289       0          0  нельзя ли увеличить хотя бы в два раз некоторы...  \n",
       "\n",
       "[248290 rows x 6 columns]"
      ],
      "text/html": [
       "<div>\n",
       "<style scoped>\n",
       "    .dataframe tbody tr th:only-of-type {\n",
       "        vertical-align: middle;\n",
       "    }\n",
       "\n",
       "    .dataframe tbody tr th {\n",
       "        vertical-align: top;\n",
       "    }\n",
       "\n",
       "    .dataframe thead th {\n",
       "        text-align: right;\n",
       "    }\n",
       "</style>\n",
       "<table border=\"1\" class=\"dataframe\">\n",
       "  <thead>\n",
       "    <tr style=\"text-align: right;\">\n",
       "      <th></th>\n",
       "      <th>text</th>\n",
       "      <th>normal</th>\n",
       "      <th>insult</th>\n",
       "      <th>threat</th>\n",
       "      <th>obscenity</th>\n",
       "      <th>cleaned_text</th>\n",
       "    </tr>\n",
       "  </thead>\n",
       "  <tbody>\n",
       "    <tr>\n",
       "      <th>0</th>\n",
       "      <td>скотина! что сказать</td>\n",
       "      <td>0</td>\n",
       "      <td>1</td>\n",
       "      <td>0</td>\n",
       "      <td>0</td>\n",
       "      <td>скотина что сказать</td>\n",
       "    </tr>\n",
       "    <tr>\n",
       "      <th>1</th>\n",
       "      <td>я сегодня проезжала по рабочей и между домами ...</td>\n",
       "      <td>1</td>\n",
       "      <td>0</td>\n",
       "      <td>0</td>\n",
       "      <td>0</td>\n",
       "      <td>я сегодня проезжать по рабочий и между дом сни...</td>\n",
       "    </tr>\n",
       "    <tr>\n",
       "      <th>2</th>\n",
       "      <td>очередной лохотрон. зачем придумывать очередно...</td>\n",
       "      <td>1</td>\n",
       "      <td>0</td>\n",
       "      <td>0</td>\n",
       "      <td>0</td>\n",
       "      <td>очередной лохотрон зачем придумывать очередной...</td>\n",
       "    </tr>\n",
       "    <tr>\n",
       "      <th>3</th>\n",
       "      <td>ретро дежавю ... сложно понять чужое сердце , ...</td>\n",
       "      <td>1</td>\n",
       "      <td>0</td>\n",
       "      <td>0</td>\n",
       "      <td>0</td>\n",
       "      <td>ретро дежавю сложный понять чужой сердце лиш о...</td>\n",
       "    </tr>\n",
       "    <tr>\n",
       "      <th>4</th>\n",
       "      <td>а когда мы статус агрогородка получили?</td>\n",
       "      <td>1</td>\n",
       "      <td>0</td>\n",
       "      <td>0</td>\n",
       "      <td>0</td>\n",
       "      <td>а когда мы статус агрогородок получить</td>\n",
       "    </tr>\n",
       "    <tr>\n",
       "      <th>...</th>\n",
       "      <td>...</td>\n",
       "      <td>...</td>\n",
       "      <td>...</td>\n",
       "      <td>...</td>\n",
       "      <td>...</td>\n",
       "      <td>...</td>\n",
       "    </tr>\n",
       "    <tr>\n",
       "      <th>248285</th>\n",
       "      <td>правильно всё по пять (5)...</td>\n",
       "      <td>1</td>\n",
       "      <td>0</td>\n",
       "      <td>0</td>\n",
       "      <td>0</td>\n",
       "      <td>правильно весь по пять</td>\n",
       "    </tr>\n",
       "    <tr>\n",
       "      <th>248286</th>\n",
       "      <td>ёбанные нубы заходите на сервер мой ник _creep...</td>\n",
       "      <td>0</td>\n",
       "      <td>1</td>\n",
       "      <td>0</td>\n",
       "      <td>0</td>\n",
       "      <td>ебанный нуба заходить на сервер мой ник для пв...</td>\n",
       "    </tr>\n",
       "    <tr>\n",
       "      <th>248287</th>\n",
       "      <td>а у меня наверное рекорд в 1962 году в училище...</td>\n",
       "      <td>1</td>\n",
       "      <td>0</td>\n",
       "      <td>0</td>\n",
       "      <td>0</td>\n",
       "      <td>а у я наверное рекорд в год в училище коренной...</td>\n",
       "    </tr>\n",
       "    <tr>\n",
       "      <th>248288</th>\n",
       "      <td>спасибо всем большое)</td>\n",
       "      <td>1</td>\n",
       "      <td>0</td>\n",
       "      <td>0</td>\n",
       "      <td>0</td>\n",
       "      <td>спасибо весь большой</td>\n",
       "    </tr>\n",
       "    <tr>\n",
       "      <th>248289</th>\n",
       "      <td>нельзя ли увеличить хотя бы в два раза некотор...</td>\n",
       "      <td>1</td>\n",
       "      <td>0</td>\n",
       "      <td>0</td>\n",
       "      <td>0</td>\n",
       "      <td>нельзя ли увеличить хотя бы в два раз некоторы...</td>\n",
       "    </tr>\n",
       "  </tbody>\n",
       "</table>\n",
       "<p>248290 rows × 6 columns</p>\n",
       "</div>"
      ]
     },
     "execution_count": 27,
     "metadata": {},
     "output_type": "execute_result"
    }
   ],
   "execution_count": 27
  },
  {
   "metadata": {
    "ExecuteTime": {
     "end_time": "2024-12-03T20:42:17.709654Z",
     "start_time": "2024-12-03T20:42:17.693719Z"
    }
   },
   "cell_type": "code",
   "source": "df_nltk",
   "id": "28146e2fe78408bf",
   "outputs": [
    {
     "data": {
      "text/plain": [
       "                                                     text  normal  insult  \\\n",
       "0                                    скотина! что сказать       0       1   \n",
       "1       я сегодня проезжала по рабочей и между домами ...       1       0   \n",
       "2       очередной лохотрон. зачем придумывать очередно...       1       0   \n",
       "3       ретро дежавю ... сложно понять чужое сердце , ...       1       0   \n",
       "4                 а когда мы статус агрогородка получили?       1       0   \n",
       "...                                                   ...     ...     ...   \n",
       "248285                       правильно всё по пять (5)...       1       0   \n",
       "248286  ёбанные нубы заходите на сервер мой ник _creep...       0       1   \n",
       "248287  а у меня наверное рекорд в 1962 году в училище...       1       0   \n",
       "248288                              спасибо всем большое)       1       0   \n",
       "248289  нельзя ли увеличить хотя бы в два раза некотор...       1       0   \n",
       "\n",
       "        threat  obscenity                                       cleaned_text  \n",
       "0            0          0                                    скотина сказать  \n",
       "1            0          0  сегодня проезжала рабочей домами снитенко гомо...  \n",
       "2            0          0  очередной лохотрон придумывать очередной налог...  \n",
       "3            0          0  ретро дежавю сложно понять чужое сердце лиш ощ...  \n",
       "4            0          0                        статус агрогородка получили  \n",
       "...        ...        ...                                                ...  \n",
       "248285       0          0                                 правильно всё пять  \n",
       "248286       0          0  ёбанные нубы заходите сервер ник пвп переебу п...  \n",
       "248287       0          0  наверное рекорд году училище коренной зубвозмо...  \n",
       "248288       0          0                               спасибо всем большое  \n",
       "248289       0          0  увеличить хотя раза некоторые хранилища такие ...  \n",
       "\n",
       "[248290 rows x 6 columns]"
      ],
      "text/html": [
       "<div>\n",
       "<style scoped>\n",
       "    .dataframe tbody tr th:only-of-type {\n",
       "        vertical-align: middle;\n",
       "    }\n",
       "\n",
       "    .dataframe tbody tr th {\n",
       "        vertical-align: top;\n",
       "    }\n",
       "\n",
       "    .dataframe thead th {\n",
       "        text-align: right;\n",
       "    }\n",
       "</style>\n",
       "<table border=\"1\" class=\"dataframe\">\n",
       "  <thead>\n",
       "    <tr style=\"text-align: right;\">\n",
       "      <th></th>\n",
       "      <th>text</th>\n",
       "      <th>normal</th>\n",
       "      <th>insult</th>\n",
       "      <th>threat</th>\n",
       "      <th>obscenity</th>\n",
       "      <th>cleaned_text</th>\n",
       "    </tr>\n",
       "  </thead>\n",
       "  <tbody>\n",
       "    <tr>\n",
       "      <th>0</th>\n",
       "      <td>скотина! что сказать</td>\n",
       "      <td>0</td>\n",
       "      <td>1</td>\n",
       "      <td>0</td>\n",
       "      <td>0</td>\n",
       "      <td>скотина сказать</td>\n",
       "    </tr>\n",
       "    <tr>\n",
       "      <th>1</th>\n",
       "      <td>я сегодня проезжала по рабочей и между домами ...</td>\n",
       "      <td>1</td>\n",
       "      <td>0</td>\n",
       "      <td>0</td>\n",
       "      <td>0</td>\n",
       "      <td>сегодня проезжала рабочей домами снитенко гомо...</td>\n",
       "    </tr>\n",
       "    <tr>\n",
       "      <th>2</th>\n",
       "      <td>очередной лохотрон. зачем придумывать очередно...</td>\n",
       "      <td>1</td>\n",
       "      <td>0</td>\n",
       "      <td>0</td>\n",
       "      <td>0</td>\n",
       "      <td>очередной лохотрон придумывать очередной налог...</td>\n",
       "    </tr>\n",
       "    <tr>\n",
       "      <th>3</th>\n",
       "      <td>ретро дежавю ... сложно понять чужое сердце , ...</td>\n",
       "      <td>1</td>\n",
       "      <td>0</td>\n",
       "      <td>0</td>\n",
       "      <td>0</td>\n",
       "      <td>ретро дежавю сложно понять чужое сердце лиш ощ...</td>\n",
       "    </tr>\n",
       "    <tr>\n",
       "      <th>4</th>\n",
       "      <td>а когда мы статус агрогородка получили?</td>\n",
       "      <td>1</td>\n",
       "      <td>0</td>\n",
       "      <td>0</td>\n",
       "      <td>0</td>\n",
       "      <td>статус агрогородка получили</td>\n",
       "    </tr>\n",
       "    <tr>\n",
       "      <th>...</th>\n",
       "      <td>...</td>\n",
       "      <td>...</td>\n",
       "      <td>...</td>\n",
       "      <td>...</td>\n",
       "      <td>...</td>\n",
       "      <td>...</td>\n",
       "    </tr>\n",
       "    <tr>\n",
       "      <th>248285</th>\n",
       "      <td>правильно всё по пять (5)...</td>\n",
       "      <td>1</td>\n",
       "      <td>0</td>\n",
       "      <td>0</td>\n",
       "      <td>0</td>\n",
       "      <td>правильно всё пять</td>\n",
       "    </tr>\n",
       "    <tr>\n",
       "      <th>248286</th>\n",
       "      <td>ёбанные нубы заходите на сервер мой ник _creep...</td>\n",
       "      <td>0</td>\n",
       "      <td>1</td>\n",
       "      <td>0</td>\n",
       "      <td>0</td>\n",
       "      <td>ёбанные нубы заходите сервер ник пвп переебу п...</td>\n",
       "    </tr>\n",
       "    <tr>\n",
       "      <th>248287</th>\n",
       "      <td>а у меня наверное рекорд в 1962 году в училище...</td>\n",
       "      <td>1</td>\n",
       "      <td>0</td>\n",
       "      <td>0</td>\n",
       "      <td>0</td>\n",
       "      <td>наверное рекорд году училище коренной зубвозмо...</td>\n",
       "    </tr>\n",
       "    <tr>\n",
       "      <th>248288</th>\n",
       "      <td>спасибо всем большое)</td>\n",
       "      <td>1</td>\n",
       "      <td>0</td>\n",
       "      <td>0</td>\n",
       "      <td>0</td>\n",
       "      <td>спасибо всем большое</td>\n",
       "    </tr>\n",
       "    <tr>\n",
       "      <th>248289</th>\n",
       "      <td>нельзя ли увеличить хотя бы в два раза некотор...</td>\n",
       "      <td>1</td>\n",
       "      <td>0</td>\n",
       "      <td>0</td>\n",
       "      <td>0</td>\n",
       "      <td>увеличить хотя раза некоторые хранилища такие ...</td>\n",
       "    </tr>\n",
       "  </tbody>\n",
       "</table>\n",
       "<p>248290 rows × 6 columns</p>\n",
       "</div>"
      ]
     },
     "execution_count": 28,
     "metadata": {},
     "output_type": "execute_result"
    }
   ],
   "execution_count": 28
  },
  {
   "metadata": {},
   "cell_type": "markdown",
   "source": "# УДАЛЯЕМ НЕОЧИЩЕННЫЙ ТЕКСТ ИЗ ДАТАФРЕЙМОВ",
   "id": "5e459e1eb7be00c"
  },
  {
   "metadata": {
    "ExecuteTime": {
     "end_time": "2024-12-04T14:54:08.732771Z",
     "start_time": "2024-12-04T14:54:07.072190Z"
    }
   },
   "cell_type": "code",
   "source": [
    "df_re = df_re.drop(columns=['text'])\n",
    "df_pymorphy = df_pymorphy.drop(columns=['text'])\n",
    "df_natasha = df_natasha.drop(columns=['text'])\n",
    "df_nltk = df_nltk.drop(columns=['text'])\n",
    "df_spacy = df_spacy.drop(columns=['text'])"
   ],
   "id": "91d2df0569eba6cf",
   "outputs": [],
   "execution_count": 30
  },
  {
   "metadata": {
    "ExecuteTime": {
     "end_time": "2024-12-04T19:45:56.824081Z",
     "start_time": "2024-12-04T19:45:56.793277Z"
    }
   },
   "cell_type": "code",
   "source": "df_no_change = df_no_change.rename(columns={'text': 'cleaned_text'})",
   "id": "15cd5d414d8528c4",
   "outputs": [],
   "execution_count": 71
  },
  {
   "metadata": {},
   "cell_type": "markdown",
   "source": "# ОБУЧЕНИЕ",
   "id": "5af8a444de018b9c"
  },
  {
   "metadata": {
    "ExecuteTime": {
     "end_time": "2024-12-04T19:16:11.362276Z",
     "start_time": "2024-12-04T19:16:11.329953Z"
    }
   },
   "cell_type": "code",
   "source": [
    "import pandas as pd\n",
    "from sklearn.feature_extraction.text import TfidfVectorizer\n",
    "from sklearn.model_selection import train_test_split\n",
    "from sklearn.ensemble import RandomForestClassifier\n",
    "from sklearn.metrics import classification_report"
   ],
   "id": "97d007e576e970a9",
   "outputs": [],
   "execution_count": 63
  },
  {
   "metadata": {},
   "cell_type": "markdown",
   "source": "****RE****",
   "id": "ce440cf493b1dd90"
  },
  {
   "metadata": {
    "ExecuteTime": {
     "end_time": "2024-12-08T19:05:37.021658Z",
     "start_time": "2024-12-08T18:55:35.499017Z"
    }
   },
   "cell_type": "code",
   "source": [
    "start_time = time.time()\n",
    "# Загрузка данных\n",
    "df = df_re.copy()\n",
    "\n",
    "# Целевые метки и текст\n",
    "X = df[\"cleaned_text\"]\n",
    "y = df[[\"normal\", \"insult\", \"threat\", \"obscenity\"]]\n",
    "\n",
    "# Преобразование текста\n",
    "tfidf = TfidfVectorizer(max_features=5000, ngram_range=(1, 2))  # Учитываем униграммы и биграммы\n",
    "X_tfidf = tfidf.fit_transform(X)\n",
    "\n",
    "# Разделение данных на обучающую и тестовую выборки\n",
    "X_train, X_test, y_train, y_test = train_test_split(X_tfidf, y, test_size=0.2, random_state=42)\n",
    "\n",
    "base_rf = RandomForestClassifier(n_estimators=50, random_state=42, n_jobs=-1, class_weight='balanced')\n",
    "\n",
    "# Обучение модели для многозадачной классификации\n",
    "model_re = MultiOutputClassifier(base_rf, n_jobs=-1)\n",
    "model_re.fit(X_train, y_train)\n",
    "\n",
    "# Предсказание\n",
    "y_pred = model_re.predict(X_test)\n",
    "\n",
    "# Оценка качества\n",
    "print(\"Отчет по классификации:\")\n",
    "print(classification_report(y_test, y_pred, target_names=y.columns))\n",
    "print(f\"Time:{time.time()-start_time}\")\n"
   ],
   "id": "357a8344c30ce7a6",
   "outputs": [
    {
     "name": "stdout",
     "output_type": "stream",
     "text": [
      "Отчет по классификации:\n",
      "              precision    recall  f1-score   support\n",
      "\n",
      "      normal       0.94      0.97      0.95     40669\n",
      "      insult       0.81      0.65      0.72      7462\n",
      "      threat       0.77      0.60      0.67      2420\n",
      "   obscenity       0.39      0.37      0.38       836\n",
      "\n",
      "   micro avg       0.91      0.89      0.90     51387\n",
      "   macro avg       0.72      0.65      0.68     51387\n",
      "weighted avg       0.90      0.89      0.90     51387\n",
      " samples avg       0.90      0.90      0.90     51387\n",
      "\n",
      "Time:601.4649004936218\n"
     ]
    },
    {
     "name": "stderr",
     "output_type": "stream",
     "text": [
      "D:\\СПбПУ\\1_семестр\\Методы_обработки_экспериментальных_данных\\.venv\\lib\\site-packages\\sklearn\\metrics\\_classification.py:1531: UndefinedMetricWarning: Precision is ill-defined and being set to 0.0 in samples with no predicted labels. Use `zero_division` parameter to control this behavior.\n",
      "  _warn_prf(average, modifier, f\"{metric.capitalize()} is\", len(result))\n"
     ]
    }
   ],
   "execution_count": 80
  },
  {
   "metadata": {},
   "cell_type": "markdown",
   "source": "****PYMORPHY****",
   "id": "9114d32af8db5bc2"
  },
  {
   "metadata": {
    "ExecuteTime": {
     "end_time": "2024-12-08T18:55:35.169226Z",
     "start_time": "2024-12-08T18:45:53.891956Z"
    }
   },
   "cell_type": "code",
   "source": [
    "start_time = time.time()\n",
    "# Загрузка данных\n",
    "df = df_pymorphy.copy()\n",
    "\n",
    "# Целевые метки и текст\n",
    "X = df[\"cleaned_text\"]\n",
    "y = df[[\"normal\", \"insult\", \"threat\", \"obscenity\"]]\n",
    "\n",
    "# Преобразование текста\n",
    "tfidf = TfidfVectorizer(max_features=5000, ngram_range=(1, 2))  # Учитываем униграммы и биграммы\n",
    "X_tfidf = tfidf.fit_transform(X)\n",
    "\n",
    "# Разделение данных на обучающую и тестовую выборки\n",
    "X_train, X_test, y_train, y_test = train_test_split(X_tfidf, y, test_size=0.2, random_state=42)\n",
    "\n",
    "\n",
    "base_rf = RandomForestClassifier(n_estimators=50, random_state=42, n_jobs=-1, class_weight='balanced')\n",
    "\n",
    "# Обучение модели для многозадачной классификации\n",
    "model_py = MultiOutputClassifier(base_rf, n_jobs=-1)\n",
    "model_py.fit(X_train, y_train)\n",
    "\n",
    "# Предсказание\n",
    "y_pred = model_py.predict(X_test)\n",
    "\n",
    "# Оценка качества\n",
    "print(\"Отчет по классификации:\")\n",
    "print(classification_report(y_test, y_pred, target_names=y.columns))\n",
    "print(f\"Time:{time.time()-start_time}\")\n"
   ],
   "id": "b6e87a4af100fcd2",
   "outputs": [
    {
     "name": "stdout",
     "output_type": "stream",
     "text": [
      "Отчет по классификации:\n",
      "              precision    recall  f1-score   support\n",
      "\n",
      "      normal       0.95      0.97      0.96     40669\n",
      "      insult       0.85      0.71      0.78      7462\n",
      "      threat       0.76      0.58      0.66      2420\n",
      "   obscenity       0.57      0.46      0.51       836\n",
      "\n",
      "   micro avg       0.92      0.91      0.92     51387\n",
      "   macro avg       0.78      0.68      0.73     51387\n",
      "weighted avg       0.92      0.91      0.91     51387\n",
      " samples avg       0.92      0.92      0.92     51387\n",
      "\n",
      "Time:581.2061095237732\n"
     ]
    },
    {
     "name": "stderr",
     "output_type": "stream",
     "text": [
      "D:\\СПбПУ\\1_семестр\\Методы_обработки_экспериментальных_данных\\.venv\\lib\\site-packages\\sklearn\\metrics\\_classification.py:1531: UndefinedMetricWarning: Precision is ill-defined and being set to 0.0 in samples with no predicted labels. Use `zero_division` parameter to control this behavior.\n",
      "  _warn_prf(average, modifier, f\"{metric.capitalize()} is\", len(result))\n"
     ]
    }
   ],
   "execution_count": 79
  },
  {
   "metadata": {},
   "cell_type": "markdown",
   "source": "****NLTK****",
   "id": "f0ab44ee35211185"
  },
  {
   "metadata": {
    "ExecuteTime": {
     "end_time": "2024-12-08T18:43:24.322975Z",
     "start_time": "2024-12-08T18:31:23.618214Z"
    }
   },
   "cell_type": "code",
   "source": [
    "from sklearn.multioutput import MultiOutputClassifier\n",
    "from sklearn.ensemble import RandomForestClassifier\n",
    "from sklearn.model_selection import train_test_split\n",
    "from sklearn.feature_extraction.text import TfidfVectorizer\n",
    "from sklearn.metrics import classification_report\n",
    "import time\n",
    "\n",
    "start_time = time.time()\n",
    "\n",
    "# Загрузка данных\n",
    "df = df_nltk.copy()\n",
    "\n",
    "# Целевые метки и текст\n",
    "X = df[\"cleaned_text\"]\n",
    "y = df[[\"normal\", \"insult\", \"threat\", \"obscenity\"]]\n",
    "\n",
    "# Преобразование текста\n",
    "tfidf = TfidfVectorizer(max_features=5000, ngram_range=(1, 2))\n",
    "X_tfidf = tfidf.fit_transform(X)\n",
    "\n",
    "# Разделение данных на обучающую и тестовую выборки\n",
    "X_train, X_test, y_train, y_test = train_test_split(X_tfidf, y, test_size=0.2, random_state=42)\n",
    "\n",
    "# Создание модели\n",
    "base_rf = RandomForestClassifier(n_estimators=50, random_state=42, n_jobs=-1, class_weight='balanced')\n",
    "\n",
    "# Обучение модели для многозадачной классификации\n",
    "model_nltk = MultiOutputClassifier(base_rf, n_jobs=-1)\n",
    "model_nltk.fit(X_train, y_train)\n",
    "\n",
    "# Предсказание\n",
    "y_pred = model_nltk.predict(X_test)\n",
    "\n",
    "# Оценка качества\n",
    "print(\"Отчет по классификации:\")\n",
    "print(classification_report(y_test, y_pred, target_names=y.columns))\n",
    "print(f\"Time: {time.time()-start_time}\")\n"
   ],
   "id": "a4bb53f20809c50c",
   "outputs": [
    {
     "name": "stdout",
     "output_type": "stream",
     "text": [
      "Отчет по классификации:\n",
      "              precision    recall  f1-score   support\n",
      "\n",
      "      normal       0.94      0.97      0.95     40669\n",
      "      insult       0.79      0.70      0.74      7462\n",
      "      threat       0.65      0.68      0.66      2420\n",
      "   obscenity       0.31      0.44      0.37       836\n",
      "\n",
      "   micro avg       0.89      0.91      0.90     51387\n",
      "   macro avg       0.67      0.70      0.68     51387\n",
      "weighted avg       0.90      0.91      0.90     51387\n",
      " samples avg       0.90      0.91      0.91     51387\n",
      "\n",
      "Time: 720.0705151557922\n"
     ]
    },
    {
     "name": "stderr",
     "output_type": "stream",
     "text": [
      "D:\\СПбПУ\\1_семестр\\Методы_обработки_экспериментальных_данных\\.venv\\lib\\site-packages\\sklearn\\metrics\\_classification.py:1531: UndefinedMetricWarning: Precision is ill-defined and being set to 0.0 in samples with no predicted labels. Use `zero_division` parameter to control this behavior.\n",
      "  _warn_prf(average, modifier, f\"{metric.capitalize()} is\", len(result))\n"
     ]
    }
   ],
   "execution_count": 78
  },
  {
   "metadata": {},
   "cell_type": "markdown",
   "source": "****NATASHA****",
   "id": "db8dd96f695055ce"
  },
  {
   "metadata": {
    "ExecuteTime": {
     "end_time": "2024-12-08T19:14:44.536969Z",
     "start_time": "2024-12-08T19:05:37.292162Z"
    }
   },
   "cell_type": "code",
   "source": [
    "start_time = time.time()\n",
    "# Загрузка данных\n",
    "df = df_natasha.copy()\n",
    "\n",
    "# Целевые метки и текст\n",
    "X = df[\"cleaned_text\"]\n",
    "y = df[[\"normal\", \"insult\", \"threat\", \"obscenity\"]]\n",
    "\n",
    "# Преобразование текста\n",
    "tfidf = TfidfVectorizer(max_features=5000, ngram_range=(1, 2))  # Учитываем униграммы и биграммы\n",
    "X_tfidf = tfidf.fit_transform(X)\n",
    "\n",
    "# Разделение данных на обучающую и тестовую выборки\n",
    "X_train, X_test, y_train, y_test = train_test_split(X_tfidf, y, test_size=0.2, random_state=42)\n",
    "\n",
    "base_rf = RandomForestClassifier(n_estimators=50, random_state=42, n_jobs=-1, class_weight='balanced')\n",
    "\n",
    "# Обучение модели для многозадачной классификации\n",
    "model_natasha = MultiOutputClassifier(base_rf, n_jobs=-1)\n",
    "model_natasha.fit(X_train, y_train)\n",
    "\n",
    "# Предсказание\n",
    "y_pred = model_natasha.predict(X_test)\n",
    "\n",
    "# Оценка качества\n",
    "print(\"Отчет по классификации:\")\n",
    "print(classification_report(y_test, y_pred, target_names=y.columns))\n",
    "print(f\"Time:{time.time()-start_time}\")"
   ],
   "id": "71f8ab80c8c21e5",
   "outputs": [
    {
     "name": "stdout",
     "output_type": "stream",
     "text": [
      "Отчет по классификации:\n",
      "              precision    recall  f1-score   support\n",
      "\n",
      "      normal       0.94      0.97      0.96     40669\n",
      "      insult       0.83      0.69      0.76      7462\n",
      "      threat       0.75      0.57      0.65      2420\n",
      "   obscenity       0.53      0.45      0.49       836\n",
      "\n",
      "   micro avg       0.92      0.90      0.91     51387\n",
      "   macro avg       0.76      0.67      0.71     51387\n",
      "weighted avg       0.91      0.90      0.91     51387\n",
      " samples avg       0.91      0.91      0.91     51387\n",
      "\n",
      "Time:547.1720204353333\n"
     ]
    },
    {
     "name": "stderr",
     "output_type": "stream",
     "text": [
      "D:\\СПбПУ\\1_семестр\\Методы_обработки_экспериментальных_данных\\.venv\\lib\\site-packages\\sklearn\\metrics\\_classification.py:1531: UndefinedMetricWarning: Precision is ill-defined and being set to 0.0 in samples with no predicted labels. Use `zero_division` parameter to control this behavior.\n",
      "  _warn_prf(average, modifier, f\"{metric.capitalize()} is\", len(result))\n"
     ]
    }
   ],
   "execution_count": 81
  },
  {
   "metadata": {},
   "cell_type": "markdown",
   "source": "****SPACY****",
   "id": "674c4928dfd4e589"
  },
  {
   "metadata": {
    "ExecuteTime": {
     "end_time": "2024-12-08T19:25:12.572253Z",
     "start_time": "2024-12-08T19:14:45.349898Z"
    }
   },
   "cell_type": "code",
   "source": [
    "start_time = time.time()\n",
    "# Загрузка данных\n",
    "df = df_spacy.copy()\n",
    "\n",
    "# Целевые метки и текст\n",
    "X = df[\"cleaned_text\"]\n",
    "y = df[[\"normal\", \"insult\", \"threat\", \"obscenity\"]]\n",
    "\n",
    "# Преобразование текста\n",
    "tfidf = TfidfVectorizer(max_features=5000, ngram_range=(1, 2))  # Учитываем униграммы и биграммы\n",
    "X_tfidf = tfidf.fit_transform(X)\n",
    "\n",
    "# Разделение данных на обучающую и тестовую выборки\n",
    "X_train, X_test, y_train, y_test = train_test_split(X_tfidf, y, test_size=0.2, random_state=42)\n",
    "\n",
    "base_rf = RandomForestClassifier(n_estimators=50, random_state=42, n_jobs=-1, class_weight='balanced')\n",
    "\n",
    "# Обучение модели для многозадачной классификации\n",
    "model_spacy = MultiOutputClassifier(base_rf, n_jobs=-1)\n",
    "model_spacy.fit(X_train, y_train)\n",
    "\n",
    "# Предсказание\n",
    "y_pred = model_spacy.predict(X_test)\n",
    "\n",
    "# Оценка качества\n",
    "print(\"Отчет по классификации:\")\n",
    "print(classification_report(y_test, y_pred, target_names=y.columns))\n",
    "print(f\"Time:{time.time()-start_time}\")"
   ],
   "id": "5bcb40e5357c2283",
   "outputs": [
    {
     "name": "stdout",
     "output_type": "stream",
     "text": [
      "Отчет по классификации:\n",
      "              precision    recall  f1-score   support\n",
      "\n",
      "      normal       0.95      0.97      0.96     40669\n",
      "      insult       0.81      0.74      0.77      7462\n",
      "      threat       0.64      0.67      0.65      2420\n",
      "   obscenity       0.10      0.60      0.17       836\n",
      "\n",
      "   micro avg       0.84      0.92      0.88     51387\n",
      "   macro avg       0.62      0.75      0.64     51387\n",
      "weighted avg       0.90      0.92      0.91     51387\n",
      " samples avg       0.88      0.92      0.89     51387\n",
      "\n",
      "Time:627.1555302143097\n"
     ]
    },
    {
     "name": "stderr",
     "output_type": "stream",
     "text": [
      "D:\\СПбПУ\\1_семестр\\Методы_обработки_экспериментальных_данных\\.venv\\lib\\site-packages\\sklearn\\metrics\\_classification.py:1531: UndefinedMetricWarning: Precision is ill-defined and being set to 0.0 in samples with no predicted labels. Use `zero_division` parameter to control this behavior.\n",
      "  _warn_prf(average, modifier, f\"{metric.capitalize()} is\", len(result))\n"
     ]
    }
   ],
   "execution_count": 82
  },
  {
   "metadata": {},
   "cell_type": "markdown",
   "source": "****NO CHANGE****",
   "id": "61bb5f30ea85e56c"
  },
  {
   "metadata": {
    "ExecuteTime": {
     "end_time": "2024-12-08T20:23:49.929516Z",
     "start_time": "2024-12-08T20:14:45.488874Z"
    }
   },
   "cell_type": "code",
   "source": [
    "start_time = time.time()\n",
    "# Загрузка данных\n",
    "df = df_no_change.copy()\n",
    "\n",
    "# Целевые метки и текст\n",
    "X = df[\"cleaned_text\"]\n",
    "y = df[[\"normal\", \"insult\", \"threat\", \"obscenity\"]]\n",
    "\n",
    "# Преобразование текста\n",
    "tfidf = TfidfVectorizer(max_features=5000, ngram_range=(1, 2))  # Учитываем униграммы и биграммы\n",
    "X_tfidf = tfidf.fit_transform(X)\n",
    "\n",
    "# Разделение данных на обучающую и тестовую выборки\n",
    "X_train, X_test, y_train, y_test = train_test_split(X_tfidf, y, test_size=0.2, random_state=42)\n",
    "\n",
    "base_rf1 = RandomForestClassifier(n_estimators=50, random_state=42, n_jobs=-1, class_weight='balanced', )\n",
    "\n",
    "# Обучение модели для многозадачной классификации\n",
    "model_no_change = MultiOutputClassifier(base_rf1, n_jobs=-1)\n",
    "model_no_change.fit(X_train, y_train)\n",
    "\n",
    "# Предсказание\n",
    "y_pred = model_no_change.predict(X_test)\n",
    "\n",
    "# Оценка качества\n",
    "print(\"Отчет по классификации:\")\n",
    "print(classification_report(y_test, y_pred, target_names=y.columns))\n",
    "print(f\"Time:{time.time()-start_time}\")\n"
   ],
   "id": "3776c5d62029882b",
   "outputs": [
    {
     "name": "stdout",
     "output_type": "stream",
     "text": [
      "Отчет по классификации:\n",
      "              precision    recall  f1-score   support\n",
      "\n",
      "      normal       0.95      0.97      0.96     40669\n",
      "      insult       0.85      0.71      0.78      7462\n",
      "      threat       0.76      0.58      0.66      2420\n",
      "   obscenity       0.57      0.46      0.51       836\n",
      "\n",
      "   micro avg       0.92      0.91      0.92     51387\n",
      "   macro avg       0.78      0.68      0.73     51387\n",
      "weighted avg       0.92      0.91      0.91     51387\n",
      " samples avg       0.92      0.92      0.92     51387\n",
      "\n",
      "Time:544.2620096206665\n"
     ]
    },
    {
     "name": "stderr",
     "output_type": "stream",
     "text": [
      "D:\\СПбПУ\\1_семестр\\Методы_обработки_экспериментальных_данных\\.venv\\lib\\site-packages\\sklearn\\metrics\\_classification.py:1531: UndefinedMetricWarning: Precision is ill-defined and being set to 0.0 in samples with no predicted labels. Use `zero_division` parameter to control this behavior.\n",
      "  _warn_prf(average, modifier, f\"{metric.capitalize()} is\", len(result))\n"
     ]
    }
   ],
   "execution_count": 84
  },
  {
   "metadata": {
    "ExecuteTime": {
     "end_time": "2025-01-21T20:18:49.654390Z",
     "start_time": "2025-01-21T20:18:48.948279Z"
    }
   },
   "cell_type": "code",
   "source": [
    "import pandas as pd\n",
    "df = pd.read('C:/Users/Александра/Downloads/ee42af91-bfe1-cf434a948483/Propert_rent_merged.csv')\n",
    "df"
   ],
   "id": "eed0f5988ca6255d",
   "outputs": [
    {
     "ename": "ModuleNotFoundError",
     "evalue": "No module named 'pandas'",
     "output_type": "error",
     "traceback": [
      "\u001B[1;31m---------------------------------------------------------------------------\u001B[0m",
      "\u001B[1;31mModuleNotFoundError\u001B[0m                       Traceback (most recent call last)",
      "Cell \u001B[1;32mIn[1], line 1\u001B[0m\n\u001B[1;32m----> 1\u001B[0m \u001B[38;5;28;01mimport\u001B[39;00m\u001B[38;5;250m \u001B[39m\u001B[38;5;21;01mpandas\u001B[39;00m\u001B[38;5;250m \u001B[39m\u001B[38;5;28;01mas\u001B[39;00m\u001B[38;5;250m \u001B[39m\u001B[38;5;21;01mpd\u001B[39;00m\n\u001B[0;32m      2\u001B[0m df \u001B[38;5;241m=\u001B[39m pd\u001B[38;5;241m.\u001B[39mread(\u001B[38;5;124m'\u001B[39m\u001B[38;5;124mC:/Users/Александра/Downloads/ee42af91-bfe1-cf434a948483/Propert_rent_merged.csv\u001B[39m\u001B[38;5;124m'\u001B[39m)\n\u001B[0;32m      3\u001B[0m df\n",
      "\u001B[1;31mModuleNotFoundError\u001B[0m: No module named 'pandas'"
     ]
    }
   ],
   "execution_count": 1
  }
 ],
 "metadata": {
  "kernelspec": {
   "display_name": "Python 3",
   "language": "python",
   "name": "python3"
  },
  "language_info": {
   "codemirror_mode": {
    "name": "ipython",
    "version": 2
   },
   "file_extension": ".py",
   "mimetype": "text/x-python",
   "name": "python",
   "nbconvert_exporter": "python",
   "pygments_lexer": "ipython2",
   "version": "2.7.6"
  }
 },
 "nbformat": 4,
 "nbformat_minor": 5
}
